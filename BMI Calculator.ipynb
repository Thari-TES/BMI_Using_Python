{
 "cells": [
  {
   "cell_type": "code",
   "execution_count": null,
   "id": "774c38bd",
   "metadata": {},
   "outputs": [],
   "source": [
    "Height=float(input(\"Enter your height in cm: \"))\n",
    "\n",
    "Weight=float(input(\"Enter your Weight in Kg: \"))\n",
    "\n",
    "Height = Height/100\n",
    "\n",
    "BMI=Weight/(Height*Height)\n",
    "\n",
    "print(\"your BMI is: \",BMI)\n",
    "if(BMI>0):\n",
    "    if(BMI<=16):\n",
    "        print(\"Severely underweight\")\n",
    "    elif(BMI<=18.5):\n",
    "        print(\"Underweight\")\n",
    "    elif(BMI<=25):\n",
    "        print(\"Healthy\")\n",
    "    elif(BMI<=30):\n",
    "        print(\"Overweight\")\n",
    "    else: print(\"Severely Overweight\")\n",
    "\n",
    "else:(\"enter valid details\")"
   ]
  }
 ],
 "metadata": {
  "kernelspec": {
   "display_name": "Python 3 (ipykernel)",
   "language": "python",
   "name": "python3"
  },
  "language_info": {
   "codemirror_mode": {
    "name": "ipython",
    "version": 3
   },
   "file_extension": ".py",
   "mimetype": "text/x-python",
   "name": "python",
   "nbconvert_exporter": "python",
   "pygments_lexer": "ipython3",
   "version": "3.9.7"
  }
 },
 "nbformat": 4,
 "nbformat_minor": 5
}
